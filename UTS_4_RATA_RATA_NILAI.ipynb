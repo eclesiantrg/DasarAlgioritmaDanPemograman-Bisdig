{
  "nbformat": 4,
  "nbformat_minor": 0,
  "metadata": {
    "colab": {
      "provenance": []
    },
    "kernelspec": {
      "name": "python3",
      "display_name": "Python 3"
    },
    "language_info": {
      "name": "python"
    }
  },
  "cells": [
    {
      "cell_type": "code",
      "source": [
        "# Program cek kelulusan berdasarkan rata-rata nilai\n",
        "\n",
        "# Input nilai dari 3 mata pelajaran\n",
        "nilai1 = float(input(\"Masukkan nilai pertama: \"))\n",
        "nilai2 = float(input(\"Masukkan nilai kedua: \"))\n",
        "nilai3 = float(input(\"Masukkan nilai ketiga: \"))\n",
        "\n",
        "# Hitung rata-rata\n",
        "rata_rata = (nilai1 + nilai2 + nilai3) / 3\n",
        "\n",
        "# Cek kelulusan\n",
        "if rata_rata >= 75:\n",
        "    print(\"LULUS dengan rata-rata:\", rata_rata)\n",
        "else:\n",
        "    print(\"TIDAK LULUS dengan rata-rata:\", rata_rata)"
      ],
      "metadata": {
        "colab": {
          "base_uri": "https://localhost:8080/"
        },
        "id": "szGPOKDruKiP",
        "outputId": "15f6833a-a672-47f1-b657-57477a81d1de"
      },
      "execution_count": 1,
      "outputs": [
        {
          "output_type": "stream",
          "name": "stdout",
          "text": [
            "Masukkan nilai pertama: 80\n",
            "Masukkan nilai kedua: 75\n",
            "Masukkan nilai ketiga: 70\n",
            "LULUS dengan rata-rata: 75.0\n"
          ]
        }
      ]
    }
  ]
}