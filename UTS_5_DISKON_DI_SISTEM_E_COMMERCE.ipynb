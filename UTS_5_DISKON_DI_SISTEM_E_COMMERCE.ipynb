{
  "nbformat": 4,
  "nbformat_minor": 0,
  "metadata": {
    "colab": {
      "provenance": []
    },
    "kernelspec": {
      "name": "python3",
      "display_name": "Python 3"
    },
    "language_info": {
      "name": "python"
    }
  },
  "cells": [
    {
      "cell_type": "code",
      "execution_count": 1,
      "metadata": {
        "colab": {
          "base_uri": "https://localhost:8080/"
        },
        "id": "rNj8kP8NvA9v",
        "outputId": "d221a47c-75a1-4531-9f11-7ae234edbb10"
      },
      "outputs": [
        {
          "output_type": "stream",
          "name": "stdout",
          "text": [
            "Masukkan total belanja: Rp 600000\n",
            "Anda mendapat diskon 10% sebesar Rp 60000.0\n",
            "Total yang harus dibayar: Rp 540000.0\n"
          ]
        }
      ],
      "source": [
        "# Program menghitung total bayar dengan diskon 10% jika belanja > 500.000\n",
        "\n",
        "# Input total belanja\n",
        "total_belanja = float(input(\"Masukkan total belanja: Rp \"))\n",
        "\n",
        "# Cek apakah dapat diskon\n",
        "if total_belanja > 500000:\n",
        "    diskon = total_belanja * 0.10\n",
        "    total_bayar = total_belanja - diskon\n",
        "    print(\"Anda mendapat diskon 10% sebesar Rp\", diskon)\n",
        "else:\n",
        "    total_bayar = total_belanja\n",
        "    print(\"Belanja Anda tidak memenuhi syarat untuk diskon.\")\n",
        "\n",
        "# Tampilkan total yang harus dibayar\n",
        "print(\"Total yang harus dibayar: Rp\", total_bayar)"
      ]
    }
  ]
}