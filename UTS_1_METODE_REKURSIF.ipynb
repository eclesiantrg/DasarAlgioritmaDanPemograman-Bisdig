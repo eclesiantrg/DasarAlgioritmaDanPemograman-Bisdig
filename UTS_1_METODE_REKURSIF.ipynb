{
  "nbformat": 4,
  "nbformat_minor": 0,
  "metadata": {
    "colab": {
      "provenance": []
    },
    "kernelspec": {
      "name": "python3",
      "display_name": "Python 3"
    },
    "language_info": {
      "name": "python"
    }
  },
  "cells": [
    {
      "cell_type": "code",
      "source": [
        "# Fungsi rekursif untuk menghitung faktorial\n",
        "def faktorial(n):\n",
        "    if n == 1 or n == 0:  # Basis\n",
        "        return 1\n",
        "    else:  # Rekursi\n",
        "        return n * faktorial(n - 1)\n",
        "\n",
        "# Input dari pengguna\n",
        "angka = int(input(\"Masukkan angka: \"))\n",
        "hasil = faktorial(angka)\n",
        "\n",
        "# Tampilkan hasil\n",
        "print(f\"Faktorial dari {angka} adalah {hasil}\")"
      ],
      "metadata": {
        "colab": {
          "base_uri": "https://localhost:8080/"
        },
        "id": "gXw3Ik3prxW2",
        "outputId": "3bf1ca35-ae89-47ad-eb26-fb42f0ff2da6"
      },
      "execution_count": null,
      "outputs": [
        {
          "output_type": "stream",
          "name": "stdout",
          "text": [
            "Masukkan angka: 8\n",
            "Faktorial dari 8 adalah 40320\n"
          ]
        }
      ]
    }
  ]
}