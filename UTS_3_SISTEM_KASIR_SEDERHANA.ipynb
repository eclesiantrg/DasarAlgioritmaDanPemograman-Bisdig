{
  "nbformat": 4,
  "nbformat_minor": 0,
  "metadata": {
    "colab": {
      "provenance": []
    },
    "kernelspec": {
      "name": "python3",
      "display_name": "Python 3"
    },
    "language_info": {
      "name": "python"
    }
  },
  "cells": [
    {
      "cell_type": "code",
      "execution_count": null,
      "metadata": {
        "colab": {
          "base_uri": "https://localhost:8080/"
        },
        "id": "URppxdYdsKNH",
        "outputId": "70bf497d-09df-4efe-c495-d9a3b6f87465"
      },
      "outputs": [
        {
          "output_type": "stream",
          "name": "stdout",
          "text": [
            "Masukkan harga barang ke-1: 10000\n",
            "Masukkan harga barang ke-2: 15000\n",
            "Masukkan harga barang ke-3: 12000\n",
            "Total pembayaran adalah: 37000.0\n"
          ]
        }
      ],
      "source": [
        "# Program kasir sederhana untuk menghitung total 3 barang\n",
        "\n",
        "# Input harga 3 barang\n",
        "harga1 = float(input(\"Masukkan harga barang ke-1: \"))\n",
        "harga2 = float(input(\"Masukkan harga barang ke-2: \"))\n",
        "harga3 = float(input(\"Masukkan harga barang ke-3: \"))\n",
        "\n",
        "# Hitung total\n",
        "total = harga1 + harga2 + harga3\n",
        "\n",
        "# Tampilkan total pembayaran\n",
        "print(\"Total pembayaran adalah:\", total)"
      ]
    }
  ]
}