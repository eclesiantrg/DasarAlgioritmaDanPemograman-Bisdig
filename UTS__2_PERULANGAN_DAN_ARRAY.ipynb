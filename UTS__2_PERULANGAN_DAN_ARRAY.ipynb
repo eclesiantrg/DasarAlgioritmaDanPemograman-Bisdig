{
  "nbformat": 4,
  "nbformat_minor": 0,
  "metadata": {
    "colab": {
      "provenance": []
    },
    "kernelspec": {
      "name": "python3",
      "display_name": "Python 3"
    },
    "language_info": {
      "name": "python"
    }
  },
  "cells": [
    {
      "cell_type": "code",
      "execution_count": null,
      "metadata": {
        "colab": {
          "base_uri": "https://localhost:8080/"
        },
        "id": "LhCTcxZVqoxD",
        "outputId": "0faccbdf-de4b-4228-adcc-8553b067149e"
      },
      "outputs": [
        {
          "output_type": "stream",
          "name": "stdout",
          "text": [
            "Masukkan nilai siswa ke-1: 75\n",
            "Masukkan nilai siswa ke-2: 80\n",
            "Masukkan nilai siswa ke-3: 85\n",
            "Masukkan nilai siswa ke-4: 90\n",
            "Masukkan nilai siswa ke-5: 95\n",
            "Nilai tertinggi adalah 95.0, didapatkan oleh siswa ke-5.\n"
          ]
        }
      ],
      "source": [
        "# Menampung nilai 5 siswa dalam list\n",
        "nilai_siswa = []\n",
        "\n",
        "# Input nilai dengan perulangan\n",
        "for i in range(5):\n",
        "    nilai = float(input(f\"Masukkan nilai siswa ke-{i+1}: \"))\n",
        "    nilai_siswa.append(nilai)\n",
        "\n",
        "# Cari nilai tertinggi dan posisi siswa\n",
        "nilai_tertinggi = max(nilai_siswa)\n",
        "siswa_tertinggi = nilai_siswa.index(nilai_tertinggi) + 1  # +1 karena index mulai dari 0\n",
        "\n",
        "# Tampilkan hasil\n",
        "print(f\"Nilai tertinggi adalah {nilai_tertinggi}, didapatkan oleh siswa ke-{siswa_tertinggi}.\")"
      ]
    }
  ]
}